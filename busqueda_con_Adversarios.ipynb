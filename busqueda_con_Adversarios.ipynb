{
  "nbformat": 4,
  "nbformat_minor": 0,
  "metadata": {
    "colab": {
      "name": "busqueda con Adversarios.ipynb",
      "provenance": [],
      "collapsed_sections": []
    },
    "kernelspec": {
      "name": "python3",
      "display_name": "Python 3"
    }
  },
  "cells": [
    {
      "cell_type": "markdown",
      "metadata": {
        "id": "bC8xmRu9JO7s",
        "colab_type": "text"
      },
      "source": [
        "# **FUNDAMENTOS DE LA INTELIGENCIA ARTICIAL(IAIA)**\n",
        "### **Busqueda en espacio de soluciones**\n",
        "### **2020-1**\n",
        "### **Laboratorio 1**\n",
        "---\n",
        "\n",
        "+ *Davor Cortés*\n",
        "+ *Simon Marin*\n",
        "\n",
        "---"
      ]
    },
    {
      "cell_type": "markdown",
      "metadata": {
        "id": "lFz_vhuZIctY",
        "colab_type": "text"
      },
      "source": [
        "# *Modelado*\n",
        "---\n"
      ]
    },
    {
      "cell_type": "code",
      "metadata": {
        "id": "fdLT0DHGDuPw",
        "colab_type": "code",
        "colab": {}
      },
      "source": [
        "class TEstado:\n",
        "  \"\"\"Representa un estado del juego\"\"\"\n",
        "\n",
        "  def __init__(self, id, jugador):\n",
        "    self.id = id\n",
        "    self.jugador = jugador\n",
        "\n",
        "  def __str__(self):\n",
        "    return 'E' + self.id\n",
        "  \n",
        "  def get_id(self):\n",
        "    return self.id\n",
        "\n",
        "  def set_id(self, id):\n",
        "    self.id = id\n",
        "\n",
        "  def get_jugador(self):\n",
        "    return self.jugador\n",
        "\n",
        "  def set_jugador(self, jugador):\n",
        "    self.jugador = jugador"
      ],
      "execution_count": 0,
      "outputs": []
    },
    {
      "cell_type": "code",
      "metadata": {
        "id": "3gIi1mTuGJ_q",
        "colab_type": "code",
        "colab": {}
      },
      "source": [
        "class Jugador:\n",
        "  \"\"\"Representa un jugador\"\"\"\n",
        "  \n",
        "  def __init__(self, id):\n",
        "    self.id=id\n",
        "  def __str__(self):\n",
        "    return self.id\n",
        "  def get_id(self):\n",
        "    return self.id\n",
        "\n",
        "  def set_id(self, id):\n",
        "    self.id = id"
      ],
      "execution_count": 0,
      "outputs": []
    },
    {
      "cell_type": "code",
      "metadata": {
        "id": "4FPumsjzJIDc",
        "colab_type": "code",
        "colab": {}
      },
      "source": [
        "maxi, mini=Jugador(\"J1\"),Jugador(\"J2\")\n",
        "def inicial():\n",
        "    \"\"\" Conocer el estado del tablero inicial\n",
        "        Returns:\n",
        "        e: TEstado\"\"\"\n",
        "\n",
        "    return TEstado(\"1\", maxi )\n",
        "\n",
        "def sucesores(e):\n",
        "    \"\"\" Conocer todas las posibles siguientes jugadas\n",
        "        Parameters:\n",
        "            - e: TEstado\n",
        "\n",
        "        Returns:\n",
        "            - secuencia de estados.\"\"\"\n",
        "    otro_jugador=maxi if jugador(e).get_id()==\"J2\" else mini\n",
        "    return [TEstado(e.get_id()+\"1\",otro_jugador), TEstado(e.get_id()+\"2\",otro_jugador), TEstado(e.get_id()+\"3\",otro_jugador)]\n",
        "\n",
        "\n",
        "def jugador(e):\n",
        "    \"\"\" Conocer la identificación del jugador en turno.\n",
        "        Parameters:\n",
        "            - e: TEstado\n",
        "\n",
        "        Returns:\n",
        "            - j: TJugador\"\"\"\n",
        "    return e.get_jugador()\n",
        "\n",
        "\n",
        "def utilidad(e, j):\n",
        "    \"\"\"Conocer el valor estático de un tablero para un jugador\n",
        "\n",
        "        Parameters:\n",
        "            - e: TEstado\n",
        "            - j: Tjugador\n",
        "\n",
        "        Returns:\n",
        "            - v : int (valor del tablero para j) \"\"\"\n",
        "    utilidades = {\"1111\":8, \"1112\":7, \"1113\":2, \"1121\":9, \"1122\":1, \"1123\":6, \"1131\":2, \"1132\":4,\n",
        "                  \"1133\":1, \"1211\":1, \"1212\":3, \"1213\":5, \"1221\":3, \"1222\":9, \"1223\":2, \"1231\":6,\n",
        "                  \"1232\":5, \"1233\":2, \"1311\":1, \"1312\":2, \"1313\":3, \"1321\":9, \"1322\":7, \"1323\":2,\n",
        "                  \"1331\":16, \"1332\":6, \"1333\":4}\n",
        "    return utilidades[e.get_id()]\n"
      ],
      "execution_count": 0,
      "outputs": []
    },
    {
      "cell_type": "markdown",
      "metadata": {
        "id": "DUtRkVXv6Tna",
        "colab_type": "text"
      },
      "source": [
        "### Prueba del Modelado\n",
        "---"
      ]
    },
    {
      "cell_type": "code",
      "metadata": {
        "id": "gKzWxsNf6ZNF",
        "colab_type": "code",
        "colab": {
          "base_uri": "https://localhost:8080/",
          "height": 68
        },
        "outputId": "4365284d-642f-4da1-da7e-f1f399327eca"
      },
      "source": [
        "estado = inicial()\n",
        "print('Tablero: ' + str(estado))\n",
        "print('Jugador en Turno: '+ str(jugador(estado)))\n",
        "print('Siguientes Jugadas: '+ str(list(map(str,sucesores(estado)))))\n"
      ],
      "execution_count": 79,
      "outputs": [
        {
          "output_type": "stream",
          "text": [
            "Tablero: E1\n",
            "Jugador en Turno: J1\n",
            "Siguientes Jugadas: ['E11', 'E12', 'E13']\n"
          ],
          "name": "stdout"
        }
      ]
    },
    {
      "cell_type": "markdown",
      "metadata": {
        "id": "3Lo3F_mjI-aO",
        "colab_type": "text"
      },
      "source": [
        "# *Implementando Min-Max*\n",
        "---"
      ]
    },
    {
      "cell_type": "code",
      "metadata": {
        "id": "iOYp2ymJMZ4j",
        "colab_type": "code",
        "colab": {}
      },
      "source": [
        "def min_max(ej, j, m):\n",
        "  \"\"\"conocer el valor dinámico de un estado de juego para un jugador\n",
        "      Pre : m >= 0\n",
        "      Pos : retorna el valor del estado de juego ej para el jugador identificado con j considerando una mirada de profundidad m usando el algoritmo min-max\n",
        "      Parameters:\n",
        "          - ej: TEstado\n",
        "          - j: Jugador\n",
        "          - m: int\n",
        "      \n",
        "      Returns:\n",
        "          - v: int \"\"\"\n",
        "  v = None\n",
        "  if j.get_id() == \"J1\":\n",
        "    v = max_value(ej, m)\n",
        "  else:\n",
        "    v = min_value(ej, m)\n",
        "  return v\n",
        "\n",
        "def max_value(ej, m):\n",
        "  if m == 0:\n",
        "    return utilidad(ej, maxi)\n",
        "  return max( min_value(s, m-1) for s in sucesores(ej) )\n",
        "\n",
        "def min_value(ej,m):\n",
        "  if m == 0:\n",
        "    return utilidad(ej, mini)\n",
        "  return min( max_value(s, m-1) for s in sucesores(ej) )"
      ],
      "execution_count": 0,
      "outputs": []
    },
    {
      "cell_type": "markdown",
      "metadata": {
        "id": "7fU42Iva26E9",
        "colab_type": "text"
      },
      "source": [
        "### Prueba Min-Max\n",
        "----\n",
        "\n",
        "\n"
      ]
    },
    {
      "cell_type": "code",
      "metadata": {
        "id": "rYtCfGJerPgN",
        "colab_type": "code",
        "colab": {
          "base_uri": "https://localhost:8080/",
          "height": 34
        },
        "outputId": "f30aece7-2fe2-4d04-b3f8-b2cc8dc4d8a7"
      },
      "source": [
        "min_max(inicial(), maxi, 3)\n"
      ],
      "execution_count": 83,
      "outputs": [
        {
          "output_type": "execute_result",
          "data": {
            "text/plain": [
              "5"
            ]
          },
          "metadata": {
            "tags": []
          },
          "execution_count": 83
        }
      ]
    },
    {
      "cell_type": "markdown",
      "metadata": {
        "id": "Moy0G4bgroZu",
        "colab_type": "text"
      },
      "source": [
        "# *Implementando Alpha-Beta*\n",
        "---\n"
      ]
    },
    {
      "cell_type": "code",
      "metadata": {
        "id": "F6jHqWP6rr-h",
        "colab_type": "code",
        "colab": {}
      },
      "source": [
        "def valor_alpha_beta(ej, m, alpha, beta):\n",
        "  \"\"\"conocer el valor dinámico de un estado de juego para un jugador\n",
        "    Pre : m >= 0 , alpha<=beta\n",
        "    Pos : retorna el valor del estado de juego ej para el jugador identificado con j considerando una mirada de profundidad m usando el algoritmo alpha-beta dados los límites apha y beta.\n",
        "\n",
        "    Parameters:\n",
        "        - ej: TEstado\n",
        "        - m: int\n",
        "        - alpha: int\n",
        "        - beta: int\n",
        "\n",
        "    Returns:\n",
        "        - v: int  \n",
        "  \"\"\"\n",
        "  return value_max(ej, m, alpha, beta) if ej.get_jugador().get_id() == \"J1\" else value_min(ej, m, alpha, beta)\n",
        "\n",
        "def value_min(ej, m, alpha, beta):\n",
        "  if m == 0:\n",
        "       return utilidad(ej, mini)\n",
        "  else:\n",
        "      v = float(\"inf\")\n",
        "      for s in sucesores(ej):\n",
        "          v = min(v, value_max(s, m-1, alpha, beta))\n",
        "          if v <= alpha:\n",
        "                return v\n",
        "          beta = min(beta,v)\n",
        "      return v\n",
        "\n",
        "def value_max(ej, m, alpha, beta):\n",
        "  if m == 0:\n",
        "       return utilidad(ej, mini)\n",
        "  else:\n",
        "      v = -float(\"inf\")\n",
        "      for s in sucesores(ej):\n",
        "          v = max(v, value_min(s, m-1, alpha, beta))\n",
        "          if v >= beta:\n",
        "                return v\n",
        "          alpha = max(alpha,v)\n",
        "      return v\n",
        "\n",
        "\n"
      ],
      "execution_count": 0,
      "outputs": []
    },
    {
      "cell_type": "markdown",
      "metadata": {
        "id": "3Brvdjf_2wg6",
        "colab_type": "text"
      },
      "source": [
        "### Prueba alpha-beta\n",
        "---"
      ]
    },
    {
      "cell_type": "code",
      "metadata": {
        "id": "ZIwwmPz82Ayq",
        "colab_type": "code",
        "colab": {
          "base_uri": "https://localhost:8080/",
          "height": 34
        },
        "outputId": "28f3b75f-3f18-4722-d9bf-54ab8626ddb9"
      },
      "source": [
        "\n",
        "valor_alpha_beta(inicial(), 3, -float('inf'), float('inf'))"
      ],
      "execution_count": 84,
      "outputs": [
        {
          "output_type": "execute_result",
          "data": {
            "text/plain": [
              "5"
            ]
          },
          "metadata": {
            "tags": []
          },
          "execution_count": 84
        }
      ]
    },
    {
      "cell_type": "code",
      "metadata": {
        "id": "yybgQVLa5ApU",
        "colab_type": "code",
        "colab": {}
      },
      "source": [
        ""
      ],
      "execution_count": 0,
      "outputs": []
    }
  ]
}